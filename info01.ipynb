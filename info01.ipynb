{
 "cells": [
  {
   "cell_type": "code",
   "execution_count": 1,
   "metadata": {},
   "outputs": [
    {
     "name": "stderr",
     "output_type": "stream",
     "text": [
      "C:\\Users\\10170266\\AppData\\Local\\Continuum\\anaconda3\\lib\\site-packages\\sklearn\\cross_validation.py:41: DeprecationWarning: This module was deprecated in version 0.18 in favor of the model_selection module into which all the refactored classes and functions are moved. Also note that the interface of the new CV iterators are different from that of this module. This module will be removed in 0.20.\n",
      "  \"This module will be removed in 0.20.\", DeprecationWarning)\n",
      "C:\\Users\\10170266\\AppData\\Local\\Continuum\\anaconda3\\lib\\site-packages\\sklearn\\grid_search.py:42: DeprecationWarning: This module was deprecated in version 0.18 in favor of the model_selection module into which all the refactored classes and functions are moved. This module will be removed in 0.20.\n",
      "  DeprecationWarning)\n"
     ]
    }
   ],
   "source": [
    "from sklearn.linear_model import LogisticRegression #for logistic regression\n",
    "from sklearn.pipeline import Pipeline #to assemble steps for cross validation\n",
    "from sklearn.preprocessing import PolynomialFeatures #for all the polynomial features\n",
    "from sklearn import svm #for Support Vector Machines\n",
    "from sklearn.neighbors import NearestNeighbors #for nearest neighbor classifier\n",
    "from sklearn import tree\n",
    "from sklearn.tree import DecisionTreeClassifier #for decision tree classifier\n",
    "from sklearn.naive_bayes import GaussianNB  #for naive bayes classifier\n",
    "from scipy import stats #for statistical info\n",
    "from sklearn.model_selection import train_test_split # to split the data in train and test\n",
    "from sklearn.model_selection import KFold # for cross validation\n",
    "from sklearn.grid_search import GridSearchCV  # for tuning parameters\n",
    "from sklearn.neighbors import KNeighborsClassifier  #for k-neighbor classifier\n",
    "from sklearn import metrics  # for checking the accuracy \n",
    "from time import time"
   ]
  },
  {
   "cell_type": "code",
   "execution_count": 2,
   "metadata": {},
   "outputs": [],
   "source": [
    "import nltk\n",
    "import csv\n",
    "import numpy as np\n",
    "import pandas as pd"
   ]
  },
  {
   "cell_type": "code",
   "execution_count": 3,
   "metadata": {},
   "outputs": [],
   "source": [
    "import matplotlib.pyplot as plt"
   ]
  },
  {
   "cell_type": "code",
   "execution_count": 4,
   "metadata": {},
   "outputs": [],
   "source": [
    "data=pd.read_csv(\"info01.csv\")"
   ]
  },
  {
   "cell_type": "code",
   "execution_count": 5,
   "metadata": {},
   "outputs": [
    {
     "data": {
      "text/html": [
       "<div>\n",
       "<style scoped>\n",
       "    .dataframe tbody tr th:only-of-type {\n",
       "        vertical-align: middle;\n",
       "    }\n",
       "\n",
       "    .dataframe tbody tr th {\n",
       "        vertical-align: top;\n",
       "    }\n",
       "\n",
       "    .dataframe thead th {\n",
       "        text-align: right;\n",
       "    }\n",
       "</style>\n",
       "<table border=\"1\" class=\"dataframe\">\n",
       "  <thead>\n",
       "    <tr style=\"text-align: right;\">\n",
       "      <th></th>\n",
       "      <th>Birth_Year</th>\n",
       "      <th>Weight</th>\n",
       "      <th>Weight_Perception</th>\n",
       "      <th>Height</th>\n",
       "      <th>Height_Perception</th>\n",
       "      <th>Gender</th>\n",
       "      <th>School_Year</th>\n",
       "      <th>Marital_Status</th>\n",
       "      <th>Mother_Education</th>\n",
       "      <th>Mother_Profession</th>\n",
       "      <th>...</th>\n",
       "      <th>Little_Interest</th>\n",
       "      <th>Little_Energy</th>\n",
       "      <th>Feel_Failure</th>\n",
       "      <th>Life_Rewarding</th>\n",
       "      <th>Amusing</th>\n",
       "      <th>Cheerful_Effect</th>\n",
       "      <th>Healthy_Feel</th>\n",
       "      <th>Control_Life</th>\n",
       "      <th>GPA</th>\n",
       "      <th>Sleep_Hours</th>\n",
       "    </tr>\n",
       "  </thead>\n",
       "  <tbody>\n",
       "    <tr>\n",
       "      <th>0</th>\n",
       "      <td>1998</td>\n",
       "      <td>160</td>\n",
       "      <td>Overweight</td>\n",
       "      <td>59</td>\n",
       "      <td>Very short</td>\n",
       "      <td>Female</td>\n",
       "      <td>Freshman</td>\n",
       "      <td>Single</td>\n",
       "      <td>College Degree</td>\n",
       "      <td>social worker</td>\n",
       "      <td>...</td>\n",
       "      <td>Several days</td>\n",
       "      <td>Several days</td>\n",
       "      <td>More than half the days</td>\n",
       "      <td>3.0</td>\n",
       "      <td>3.0</td>\n",
       "      <td>7.0</td>\n",
       "      <td>3.0</td>\n",
       "      <td>2.0</td>\n",
       "      <td>3.40</td>\n",
       "      <td>7</td>\n",
       "    </tr>\n",
       "    <tr>\n",
       "      <th>1</th>\n",
       "      <td>1995</td>\n",
       "      <td>160</td>\n",
       "      <td>Very fit</td>\n",
       "      <td>67</td>\n",
       "      <td>Slightly short</td>\n",
       "      <td>Male</td>\n",
       "      <td>Sophomore</td>\n",
       "      <td>In a relationship</td>\n",
       "      <td>High School Degree</td>\n",
       "      <td>Doctors Billing Assiant</td>\n",
       "      <td>...</td>\n",
       "      <td>Never</td>\n",
       "      <td>Several days</td>\n",
       "      <td>Never</td>\n",
       "      <td>9.0</td>\n",
       "      <td>9.0</td>\n",
       "      <td>8.0</td>\n",
       "      <td>9.0</td>\n",
       "      <td>8.0</td>\n",
       "      <td>3.70</td>\n",
       "      <td>8</td>\n",
       "    </tr>\n",
       "    <tr>\n",
       "      <th>2</th>\n",
       "      <td>1998</td>\n",
       "      <td>145</td>\n",
       "      <td>Just right</td>\n",
       "      <td>68</td>\n",
       "      <td>Tall</td>\n",
       "      <td>Female</td>\n",
       "      <td>Freshman</td>\n",
       "      <td>In a relationship</td>\n",
       "      <td>High School Degree</td>\n",
       "      <td>Police</td>\n",
       "      <td>...</td>\n",
       "      <td>Several days</td>\n",
       "      <td>More than half the days</td>\n",
       "      <td>Several days</td>\n",
       "      <td>9.0</td>\n",
       "      <td>7.0</td>\n",
       "      <td>7.0</td>\n",
       "      <td>7.0</td>\n",
       "      <td>9.0</td>\n",
       "      <td>4.00</td>\n",
       "      <td>7</td>\n",
       "    </tr>\n",
       "    <tr>\n",
       "      <th>3</th>\n",
       "      <td>1998</td>\n",
       "      <td>264</td>\n",
       "      <td>Overweight</td>\n",
       "      <td>60</td>\n",
       "      <td>Slightly short</td>\n",
       "      <td>Male</td>\n",
       "      <td>Freshman</td>\n",
       "      <td>In a relationship</td>\n",
       "      <td>College Degree</td>\n",
       "      <td>Child care provider</td>\n",
       "      <td>...</td>\n",
       "      <td>More than half the days</td>\n",
       "      <td>More than half the days</td>\n",
       "      <td>Nearly every day</td>\n",
       "      <td>9.0</td>\n",
       "      <td>9.0</td>\n",
       "      <td>6.0</td>\n",
       "      <td>9.0</td>\n",
       "      <td>8.0</td>\n",
       "      <td>3.40</td>\n",
       "      <td>8</td>\n",
       "    </tr>\n",
       "    <tr>\n",
       "      <th>4</th>\n",
       "      <td>1995</td>\n",
       "      <td>175</td>\n",
       "      <td>Slim</td>\n",
       "      <td>68</td>\n",
       "      <td>Slightly short</td>\n",
       "      <td>Male</td>\n",
       "      <td>Senior</td>\n",
       "      <td>In a relationship</td>\n",
       "      <td>High School Degree</td>\n",
       "      <td>Marketing Analyst</td>\n",
       "      <td>...</td>\n",
       "      <td>Never</td>\n",
       "      <td>Never</td>\n",
       "      <td>Never</td>\n",
       "      <td>5.0</td>\n",
       "      <td>10.0</td>\n",
       "      <td>5.0</td>\n",
       "      <td>3.0</td>\n",
       "      <td>8.0</td>\n",
       "      <td>3.00</td>\n",
       "      <td>7</td>\n",
       "    </tr>\n",
       "    <tr>\n",
       "      <th>5</th>\n",
       "      <td>1994</td>\n",
       "      <td>190</td>\n",
       "      <td>Slightly overweight</td>\n",
       "      <td>66</td>\n",
       "      <td>Slightly short</td>\n",
       "      <td>Male</td>\n",
       "      <td>Senior</td>\n",
       "      <td>Single</td>\n",
       "      <td>Graduate Degree</td>\n",
       "      <td>Lawyer</td>\n",
       "      <td>...</td>\n",
       "      <td>Never</td>\n",
       "      <td>Several days</td>\n",
       "      <td>More than half the days</td>\n",
       "      <td>8.0</td>\n",
       "      <td>5.0</td>\n",
       "      <td>7.0</td>\n",
       "      <td>5.0</td>\n",
       "      <td>5.0</td>\n",
       "      <td>3.40</td>\n",
       "      <td>5</td>\n",
       "    </tr>\n",
       "    <tr>\n",
       "      <th>6</th>\n",
       "      <td>1995</td>\n",
       "      <td>150</td>\n",
       "      <td>Slightly overweight</td>\n",
       "      <td>69</td>\n",
       "      <td>Tall</td>\n",
       "      <td>Female</td>\n",
       "      <td>Senior</td>\n",
       "      <td>Single</td>\n",
       "      <td>Graduate Degree</td>\n",
       "      <td>program director</td>\n",
       "      <td>...</td>\n",
       "      <td>Never</td>\n",
       "      <td>Several days</td>\n",
       "      <td>Never</td>\n",
       "      <td>4.0</td>\n",
       "      <td>5.0</td>\n",
       "      <td>3.0</td>\n",
       "      <td>4.0</td>\n",
       "      <td>2.0</td>\n",
       "      <td>3.70</td>\n",
       "      <td>7</td>\n",
       "    </tr>\n",
       "    <tr>\n",
       "      <th>7</th>\n",
       "      <td>1996</td>\n",
       "      <td>140</td>\n",
       "      <td>Slim</td>\n",
       "      <td>68</td>\n",
       "      <td>Slightly short</td>\n",
       "      <td>Male</td>\n",
       "      <td>Junior</td>\n",
       "      <td>Single</td>\n",
       "      <td>College Degree</td>\n",
       "      <td>Teacher</td>\n",
       "      <td>...</td>\n",
       "      <td>Never</td>\n",
       "      <td>Never</td>\n",
       "      <td>Never</td>\n",
       "      <td>1.0</td>\n",
       "      <td>1.0</td>\n",
       "      <td>1.0</td>\n",
       "      <td>2.0</td>\n",
       "      <td>1.0</td>\n",
       "      <td>3.00</td>\n",
       "      <td>6</td>\n",
       "    </tr>\n",
       "    <tr>\n",
       "      <th>8</th>\n",
       "      <td>1994</td>\n",
       "      <td>195</td>\n",
       "      <td>Very fit</td>\n",
       "      <td>76</td>\n",
       "      <td>Tall</td>\n",
       "      <td>Male</td>\n",
       "      <td>Senior</td>\n",
       "      <td>In a relationship</td>\n",
       "      <td>High School Degree</td>\n",
       "      <td>House wife</td>\n",
       "      <td>...</td>\n",
       "      <td>Never</td>\n",
       "      <td>Several days</td>\n",
       "      <td>Several days</td>\n",
       "      <td>7.0</td>\n",
       "      <td>3.0</td>\n",
       "      <td>7.0</td>\n",
       "      <td>8.0</td>\n",
       "      <td>7.0</td>\n",
       "      <td>3.87</td>\n",
       "      <td>8</td>\n",
       "    </tr>\n",
       "    <tr>\n",
       "      <th>9</th>\n",
       "      <td>1995</td>\n",
       "      <td>170</td>\n",
       "      <td>Slightly overweight</td>\n",
       "      <td>72</td>\n",
       "      <td>Too tall</td>\n",
       "      <td>Female</td>\n",
       "      <td>Senior</td>\n",
       "      <td>In a relationship</td>\n",
       "      <td>College Degree</td>\n",
       "      <td>Accountant</td>\n",
       "      <td>...</td>\n",
       "      <td>Never</td>\n",
       "      <td>Nearly every day</td>\n",
       "      <td>Several days</td>\n",
       "      <td>1.0</td>\n",
       "      <td>1.0</td>\n",
       "      <td>3.0</td>\n",
       "      <td>9.0</td>\n",
       "      <td>8.0</td>\n",
       "      <td>3.60</td>\n",
       "      <td>9</td>\n",
       "    </tr>\n",
       "  </tbody>\n",
       "</table>\n",
       "<p>10 rows × 88 columns</p>\n",
       "</div>"
      ],
      "text/plain": [
       "   Birth_Year  Weight    Weight_Perception  Height Height_Perception  Gender  \\\n",
       "0        1998     160           Overweight      59        Very short  Female   \n",
       "1        1995     160             Very fit      67    Slightly short    Male   \n",
       "2        1998     145           Just right      68              Tall  Female   \n",
       "3        1998     264           Overweight      60    Slightly short    Male   \n",
       "4        1995     175                 Slim      68    Slightly short    Male   \n",
       "5        1994     190  Slightly overweight      66    Slightly short    Male   \n",
       "6        1995     150  Slightly overweight      69              Tall  Female   \n",
       "7        1996     140                 Slim      68    Slightly short    Male   \n",
       "8        1994     195             Very fit      76              Tall    Male   \n",
       "9        1995     170  Slightly overweight      72          Too tall  Female   \n",
       "\n",
       "  School_Year     Marital_Status    Mother_Education  \\\n",
       "0    Freshman             Single      College Degree   \n",
       "1   Sophomore  In a relationship  High School Degree   \n",
       "2    Freshman  In a relationship  High School Degree   \n",
       "3    Freshman  In a relationship      College Degree   \n",
       "4      Senior  In a relationship  High School Degree   \n",
       "5      Senior             Single     Graduate Degree   \n",
       "6      Senior             Single     Graduate Degree   \n",
       "7      Junior             Single      College Degree   \n",
       "8      Senior  In a relationship  High School Degree   \n",
       "9      Senior  In a relationship      College Degree   \n",
       "\n",
       "          Mother_Profession     ...              Little_Interest  \\\n",
       "0             social worker     ...                 Several days   \n",
       "1  Doctors Billing Assiant      ...                        Never   \n",
       "2                    Police     ...                 Several days   \n",
       "3      Child care provider      ...      More than half the days   \n",
       "4         Marketing Analyst     ...                        Never   \n",
       "5                    Lawyer     ...                        Never   \n",
       "6          program director     ...                        Never   \n",
       "7                   Teacher     ...                        Never   \n",
       "8                House wife     ...                        Never   \n",
       "9               Accountant      ...                        Never   \n",
       "\n",
       "             Little_Energy             Feel_Failure  Life_Rewarding Amusing  \\\n",
       "0             Several days  More than half the days             3.0     3.0   \n",
       "1             Several days                    Never             9.0     9.0   \n",
       "2  More than half the days             Several days             9.0     7.0   \n",
       "3  More than half the days         Nearly every day             9.0     9.0   \n",
       "4                    Never                    Never             5.0    10.0   \n",
       "5             Several days  More than half the days             8.0     5.0   \n",
       "6             Several days                    Never             4.0     5.0   \n",
       "7                    Never                    Never             1.0     1.0   \n",
       "8             Several days             Several days             7.0     3.0   \n",
       "9         Nearly every day             Several days             1.0     1.0   \n",
       "\n",
       "  Cheerful_Effect Healthy_Feel Control_Life   GPA Sleep_Hours  \n",
       "0             7.0          3.0          2.0  3.40           7  \n",
       "1             8.0          9.0          8.0  3.70           8  \n",
       "2             7.0          7.0          9.0  4.00           7  \n",
       "3             6.0          9.0          8.0  3.40           8  \n",
       "4             5.0          3.0          8.0  3.00           7  \n",
       "5             7.0          5.0          5.0  3.40           5  \n",
       "6             3.0          4.0          2.0  3.70           7  \n",
       "7             1.0          2.0          1.0  3.00           6  \n",
       "8             7.0          8.0          7.0  3.87           8  \n",
       "9             3.0          9.0          8.0  3.60           9  \n",
       "\n",
       "[10 rows x 88 columns]"
      ]
     },
     "execution_count": 5,
     "metadata": {},
     "output_type": "execute_result"
    }
   ],
   "source": [
    "data.head(10)"
   ]
  },
  {
   "cell_type": "code",
   "execution_count": 6,
   "metadata": {},
   "outputs": [
    {
     "data": {
      "text/plain": [
       "(163, 88)"
      ]
     },
     "execution_count": 6,
     "metadata": {},
     "output_type": "execute_result"
    }
   ],
   "source": [
    "data.shape"
   ]
  },
  {
   "cell_type": "code",
   "execution_count": 8,
   "metadata": {},
   "outputs": [
    {
     "data": {
      "text/plain": [
       "163"
      ]
     },
     "execution_count": 8,
     "metadata": {},
     "output_type": "execute_result"
    }
   ],
   "source": [
    "len(data)"
   ]
  },
  {
   "cell_type": "code",
   "execution_count": 10,
   "metadata": {},
   "outputs": [
    {
     "data": {
      "text/plain": [
       "88"
      ]
     },
     "execution_count": 10,
     "metadata": {},
     "output_type": "execute_result"
    }
   ],
   "source": [
    "data.shape[1] #finding how many variables"
   ]
  },
  {
   "cell_type": "code",
   "execution_count": 12,
   "metadata": {},
   "outputs": [
    {
     "data": {
      "text/plain": [
       "163"
      ]
     },
     "execution_count": 12,
     "metadata": {},
     "output_type": "execute_result"
    }
   ],
   "source": [
    "data.shape[0] #finding how many rows"
   ]
  },
  {
   "cell_type": "code",
   "execution_count": 16,
   "metadata": {},
   "outputs": [],
   "source": [
    "freshman = len(data[data['School_Year']=='Freshman']) #freshman\n",
    "sophomore = len(data[data['School_Year']=='Sophomore']) #sophomore\n",
    "junior = len(data[data['School_Year']=='Junior']) #Junior\n",
    "senior = len(data[data['School_Year']=='Senior']) #Senior"
   ]
  },
  {
   "cell_type": "code",
   "execution_count": 17,
   "metadata": {},
   "outputs": [],
   "source": [
    "fresh_perc =(float(freshman)/len(data)*100) #percentage of freshman in the data\n",
    "soph_perc = (float(sophomore)/len(data)*100)\n",
    "jun_perc = (float(junior)/len(data)*100)\n",
    "sen_perc = (float(senior)/len(data)*100)"
   ]
  },
  {
   "cell_type": "code",
   "execution_count": 42,
   "metadata": {},
   "outputs": [
    {
     "name": "stdout",
     "output_type": "stream",
     "text": [
      "percentage of freshmen is:31.28834355828221\n",
      "percentage of sophomores is:23.93\n",
      "percentage of juniors is:23.31\n",
      "percentage of seniors is:21.4724\n"
     ]
    }
   ],
   "source": [
    "#the right formatting for python 3.6\n",
    "print (\"percentage of freshmen is:\"+\"{0}\".format(fresh_perc))\n",
    "print (\"percentage of sophomores is:\"+\"{:.2f}\".format(soph_perc))\n",
    "print (\"percentage of juniors is:\"+\"{:.2f}\".format(jun_perc))\n",
    "print (\"percentage of seniors is:\"+\"{:.4f}\".format(sen_perc))"
   ]
  },
  {
   "cell_type": "code",
   "execution_count": 43,
   "metadata": {},
   "outputs": [
    {
     "data": {
      "image/png": "[encoded data removed]",
      "text/plain": [
       "<Figure size 432x288 with 1 Axes>"
      ]
     },
     "metadata": {},
     "output_type": "display_data"
    }
   ],
   "source": [
    "fig, ax=plt.subplots(1)\n",
    "for i in range(1):\n",
    "    x= data['School_Year']\n",
    "    y=data['GPA']\n",
    "    ax.scatter(x,y, label=str(i))\n",
    "    ax.set_title ('Relation between grade level and GPA')\n",
    "    "
   ]
  },
  {
   "cell_type": "code",
   "execution_count": 46,
   "metadata": {},
   "outputs": [
    {
     "data": {
      "image/png": "[encoded data removed]",
      "text/plain": [
       "<Figure size 432x288 with 1 Axes>"
      ]
     },
     "metadata": {},
     "output_type": "display_data"
    }
   ],
   "source": [
    "fig, ax=plt.subplots(1)\n",
    "for i in range(1):\n",
    "    x= data['Weight']\n",
    "    y=data['Height']\n",
    "    ax.scatter(x,y, label=str(i))\n",
    "    ax.set_title ('Height and Weight')"
   ]
  },
  {
   "cell_type": "code",
   "execution_count": 49,
   "metadata": {},
   "outputs": [],
   "source": [
    "import bokeh"
   ]
  },
  {
   "cell_type": "code",
   "execution_count": null,
   "metadata": {},
   "outputs": [],
   "source": []
  }
 ],
 "metadata": {
  "kernelspec": {
   "display_name": "Python 3",
   "language": "python",
   "name": "python3"
  },
  "language_info": {
   "codemirror_mode": {
    "name": "ipython",
    "version": 3
   },
   "file_extension": ".py",
   "mimetype": "text/x-python",
   "name": "python",
   "nbconvert_exporter": "python",
   "pygments_lexer": "ipython3",
   "version": "3.6.5"
  }
 },
 "nbformat": 4,
 "nbformat_minor": 2
}
